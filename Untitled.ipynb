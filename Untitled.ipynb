{
 "cells": [
  {
   "cell_type": "code",
   "execution_count": 84,
   "metadata": {},
   "outputs": [],
   "source": [
    "import numpy as np\n",
    "import math \n"
   ]
  },
  {
   "cell_type": "code",
   "execution_count": 89,
   "metadata": {},
   "outputs": [],
   "source": [
    "# def generateDynamics(q1,q2,dq1,dq2,u,m1,m2,l1,l2):\n",
    "\n",
    "#     t2 = np.cos(q1)\n",
    "#     t3 = l1**2\n",
    "#     t4 = np.sin(q1)\n",
    "#     t5 = np.cos(q2)\n",
    "#     t6 = l1*t2\n",
    "#     t7 = l2*t5\n",
    "#     t8 = t6+t7\n",
    "#     t9 = np.sin(q2)\n",
    "#     t10 = l1*t4\n",
    "#     t11 = l2*t9\n",
    "#     t12 = t10+t11\n",
    "#     M11 = -m1*(t2**2)*t3-m1*t3*(t4**2)-l1*m2*t2*t8-l1*m2*t4*t12\n",
    "\n",
    "#     M12 = -l2*m2*t5*t8-l2*m2*t9*t12\n",
    "\n",
    "\n",
    "#     M21 = -l1*l2*m2*t2*t5-l1*l2*m2*t4*t9\n",
    "\n",
    "#     t13 = l2**2\n",
    "#     M22 = -m2*(t5**2)*t13-m2*(t9**2)*t13\n",
    "\n",
    "#     t14 = dq1**2\n",
    "#     t15 = dq2**2\n",
    "#     t16 = l1*t2*t14\n",
    "#     t17 = l2*t5*t15\n",
    "#     t18 = t16+t17\n",
    "#     t19 = l1*t4*t14\n",
    "#     t20 = l2*t9*t15\n",
    "#     t21 = t19+t20\n",
    "#     t22 = m2*t12*t18\n",
    "#     t23 = 9.81*m2*t12\n",
    "#     t24 = 9.81*l1*m1*t4\n",
    "#     f1 = t22+t23+t24-m2*t8*t21\n",
    "\n",
    "#     t25 = l2*m2*t9*t18\n",
    "#     t26 = 9.81*l2*m2*t9\n",
    "#     f2 = t25+t26-u-l2*m2*t5*t21\n",
    "\n",
    "#     return M11,M12,M21,M22,f1,f2\n",
    "\n",
    "def generateDynamics(q,u,params):\n",
    "    m1 = params['m1']\n",
    "    m2 = params['m2']\n",
    "    l1 = params['l1']\n",
    "    l2 = params['l2']\n",
    "    lc1 = l1/2\n",
    "    lc2 = l2/2 \n",
    "    g = params['g']\n",
    "    I1 = params['I1']\n",
    "    I2 = params['I2']\n",
    "    theta_1 = q[0,:]\n",
    "    theta_2 = q[1,:]\n",
    "    dtheta_1 = q[2,:]\n",
    "    dtheta_2 = q[3,:]\n",
    "    \n",
    "    M = np.zeros((q.shape[1], 2, 2))\n",
    "    M[:,0,0] = m1*lc1**2 + m2*(l1**2 + lc2**2 + 2*l1*lc2*np.cos(theta_2)) + I1 + I2\n",
    "    M[:,0,1] = m2*(lc2**2 + l1*lc2*np.cos(theta_2)) + I2\n",
    "    M[:,1,0] = M[:,0,1]\n",
    "    M[:,1,1] = m2*lc2**2 + I2\n",
    "\n",
    "    C = np.zeros(M.shape)\n",
    "    C[:,0,0] = -2*m2* l1*lc2*np.dot(np.sin(theta_2),dtheta_2)\n",
    "    C[:,0,1] = -m2*l1*lc2*np.dot(np.sin(theta_2), dtheta_2)\n",
    "    C[:,1,0] = m2*l1*lc2*np.dot(np.sin(theta_2), dtheta_1)\n",
    "    \n",
    "    G = np.zeros((q.shape[1],2))\n",
    "    G[:,0] = (m1*lc1 + m2*l1)*g*np.cos(math.pi/2+theta_1) + m2* lc2*g*np.cos(math.pi/2 + theta_1 + theta_2)\n",
    "    G[:,1] = m2*lc2*g*np.cos(math.pi/2+theta_1 + theta_2)\n",
    "    \n",
    "    B = np.vstack((np.zeros(q.shape[1]), np.ones(q.shape[1])))\n",
    "    \n",
    "    return M, C, G, B"
   ]
  },
  {
   "cell_type": "code",
   "execution_count": 101,
   "metadata": {},
   "outputs": [],
   "source": [
    "def acrobotDynamics(q,u,p):\n",
    "\n",
    "    M, C, G, B = generateDynamics(q,u,p)\n",
    "    theta_1 = q[0,:]\n",
    "    theta_2 = q[1,:]\n",
    "    dtheta_1 = q[2,:]\n",
    "    dtheta_2 = q[3,:]\n",
    "    dq = np.zeros(q.shape)\n",
    "    dq[0,:] = dtheta_1\n",
    "    dq[1,:] = dtheta_2\n",
    "    for i in range(q.shape[1]):\n",
    "        dq[2:4,i] = np.matmul(np.linalg.pinv(M[i,:,:]), np.dot(B[:,i],u[i]) - np.dot(C[i,:,:], dq[0:2,i]) - G[i,:])\n",
    "        \n",
    "#     print(M11,M12,M21,M22,f1,f2)\n",
    "#     nTime = len(q1)\n",
    "#     ddq = np.zeros((2,nTime))\n",
    "#     for i in range(0,nTime):\n",
    "#         b = np.array([[M11[i],M12[i]],[M21[i],M22[i]]])\n",
    "#         a = np.array([[f1],[f2]])\n",
    "#         print(b.shape, a.shape)\n",
    "#         ddq[:,i] = np.linalg.lstsq(b,a)\n",
    "    \n",
    "#     dz = [dq1,dq2,ddq]\n",
    "\n",
    "    return dq"
   ]
  },
  {
   "cell_type": "code",
   "execution_count": 91,
   "metadata": {},
   "outputs": [],
   "source": [
    "class variableInitializer():\n",
    "    def __init__(self):\n",
    "        self.m1 = 1\n",
    "        self. m2 = 1\n",
    "        self.l1 = 0.5\n",
    "        self.l2 = 0.5\n",
    "    "
   ]
  },
  {
   "cell_type": "code",
   "execution_count": 102,
   "metadata": {},
   "outputs": [
    {
     "name": "stdout",
     "output_type": "stream",
     "text": [
      "(4, 1)\n",
      "[[ 0.00000000e+00]\n",
      " [ 0.00000000e+00]\n",
      " [ 2.40275702e-15]\n",
      " [-4.80551404e-15]]\n"
     ]
    }
   ],
   "source": [
    "if __name__ == '__main__':\n",
    "    params = {}\n",
    "    params['m1'] = 1\n",
    "    params['m2'] = 1\n",
    "    params['l1'] = 0.5\n",
    "    params['l2'] = 0.5\n",
    "    params['g'] = -9.81\n",
    "    params['I1'] = 0\n",
    "    params['I2'] = 0\n",
    "    #     print(p.m1,p.l1)\n",
    "    x0 = [0, 0]\n",
    "    dx0 = [0, 0]\n",
    "\n",
    "    xA = [-math.pi/2,0]\n",
    "    dxA = [0,0]\n",
    "\n",
    "    xB = [math.pi/2,math.pi]\n",
    "    dxB = [0,0]\n",
    "\n",
    "    xF = [math.pi,math.pi]\n",
    "    dxF = [0,0]\n",
    "\n",
    "    #     print(math.pi)\n",
    "    #     z = np.array([[x0,dx0],[xA,dxA],[xB,dxB],[xF,dxF]])\n",
    "#     q = np.array(x0 + dx0 + xA + dxA + xB + dxB + xF + dxF).reshape([4,4]).T\n",
    "#     u = np.array([0,0,0,0])\n",
    "    q = np.array(x0 + dx0).reshape([4,1])\n",
    "    print(q.shape)\n",
    "    u = np.array([0])\n",
    "\n",
    "#     print(z)\n",
    "    answer = acrobotDynamics(q,u,params)\n",
    "    print(answer)\n",
    "    "
   ]
  },
  {
   "cell_type": "code",
   "execution_count": 27,
   "metadata": {},
   "outputs": [
    {
     "data": {
      "text/plain": [
       "array([[[ 0.        ],\n",
       "        [ 0.        ],\n",
       "        [ 0.        ],\n",
       "        [ 0.        ]],\n",
       "\n",
       "       [[-1.57079633],\n",
       "        [ 0.        ],\n",
       "        [ 0.        ],\n",
       "        [ 0.        ]],\n",
       "\n",
       "       [[ 1.57079633],\n",
       "        [ 3.14159265],\n",
       "        [ 0.        ],\n",
       "        [ 0.        ]],\n",
       "\n",
       "       [[ 3.14159265],\n",
       "        [ 3.14159265],\n",
       "        [ 0.        ],\n",
       "        [ 0.        ]]])"
      ]
     },
     "execution_count": 27,
     "metadata": {},
     "output_type": "execute_result"
    }
   ],
   "source": [
    "np.array(x0 + dx0 + xA + dxA + xB + dxB + xF + dxF).reshape(4,4,1)"
   ]
  },
  {
   "cell_type": "code",
   "execution_count": 52,
   "metadata": {},
   "outputs": [],
   "source": [
    "params = {}\n",
    "params['m1'] = 1\n",
    "params['m2'] = 1\n",
    "params['l1'] = 0.5\n",
    "params['l2'] = 0.5\n",
    "params['g'] = -9.81\n",
    "params['I1'] = 0\n",
    "params['I2'] = 0\n",
    "m1 = params['m1']\n",
    "m2 = params['m2']\n",
    "l1 = params['l1']\n",
    "l2 = params['l2']\n",
    "lc1 = l1/2\n",
    "lc2 = l2/2 \n",
    "g = params['g']\n",
    "I1 = params['I1']\n",
    "I2 = params['I2']\n",
    "theta_1 = q[0,:]\n",
    "theta_2 = q[1,:]\n",
    "dtheta_1 = q[2,:]\n",
    "dtheta_2 = q[3,:]"
   ]
  },
  {
   "cell_type": "code",
   "execution_count": null,
   "metadata": {},
   "outputs": [],
   "source": []
  },
  {
   "cell_type": "code",
   "execution_count": 58,
   "metadata": {},
   "outputs": [
    {
     "data": {
      "text/plain": [
       "array([[[ 0.625 ,  0.1875],\n",
       "        [ 0.1875,  0.0625]],\n",
       "\n",
       "       [[ 0.625 ,  0.1875],\n",
       "        [ 0.1875,  0.0625]],\n",
       "\n",
       "       [[ 0.125 , -0.0625],\n",
       "        [-0.0625,  0.0625]],\n",
       "\n",
       "       [[ 0.125 , -0.0625],\n",
       "        [-0.0625,  0.0625]]])"
      ]
     },
     "execution_count": 58,
     "metadata": {},
     "output_type": "execute_result"
    }
   ],
   "source": [
    "M = np.zeros((q.shape[1], 2, 2))\n",
    "M[:,0,0] = m1*lc1**2 + m2*(l1**2 + lc2**2 + 2*l1*lc2*np.cos(theta_2)) + I1 + I2\n",
    "M[:,0,1] = m2*(lc2**2 + l1*lc2*np.cos(theta_2)) + I2\n",
    "M[:,1,0] = M[:,0,1]\n",
    "M[:,1,1] = m2*lc2**2 + I2\n",
    "M"
   ]
  },
  {
   "cell_type": "code",
   "execution_count": 59,
   "metadata": {},
   "outputs": [
    {
     "data": {
      "text/plain": [
       "array([[[-0., -0.],\n",
       "        [ 0.,  0.]],\n",
       "\n",
       "       [[-0., -0.],\n",
       "        [ 0.,  0.]],\n",
       "\n",
       "       [[-0., -0.],\n",
       "        [ 0.,  0.]],\n",
       "\n",
       "       [[-0., -0.],\n",
       "        [ 0.,  0.]]])"
      ]
     },
     "execution_count": 59,
     "metadata": {},
     "output_type": "execute_result"
    }
   ],
   "source": [
    "C = np.zeros(M.shape)\n",
    "C[:,0,0] = -2*m2* l1*lc2*np.dot(np.sin(theta_2),dtheta_2)\n",
    "C[:,0,1] = -m2*l1*lc2*np.dot(np.sin(theta_2), dtheta_2)\n",
    "C[:,1,0] = m2*l1*lc2*np.dot(np.sin(theta_2), dtheta_1)\n",
    "C"
   ]
  },
  {
   "cell_type": "code",
   "execution_count": 68,
   "metadata": {},
   "outputs": [
    {
     "data": {
      "text/plain": [
       "(4, 2)"
      ]
     },
     "execution_count": 68,
     "metadata": {},
     "output_type": "execute_result"
    }
   ],
   "source": [
    "G = np.zeros((q.shape[1],2))\n",
    "G[:,0] = (m1*lc1 + m2*l1)*g*np.cos(math.pi/2+theta_1) + m2* lc2*g*np.cos(math.pi/2 + theta_1 + theta_2)\n",
    "G[:,1] = m2*lc2*g*np.cos(math.pi/2+theta_1 + theta_2)\n",
    "G.shape\n"
   ]
  },
  {
   "cell_type": "code",
   "execution_count": 65,
   "metadata": {},
   "outputs": [
    {
     "data": {
      "text/plain": [
       "(4,)"
      ]
     },
     "execution_count": 65,
     "metadata": {},
     "output_type": "execute_result"
    }
   ],
   "source": [
    "B = np.vstack((np.zeros(q.shape[1]), np.ones(q.shape[1])))\n",
    "B\n",
    "u.shape"
   ]
  },
  {
   "cell_type": "code",
   "execution_count": 83,
   "metadata": {},
   "outputs": [
    {
     "name": "stdout",
     "output_type": "stream",
     "text": [
      "[-48. 160.]\n",
      "[-192.  640.]\n",
      "[32. 64.]\n",
      "[48. 96.]\n"
     ]
    }
   ],
   "source": [
    "dq = np.zeros(q.shape)\n",
    "dq[0,:] = dtheta_1\n",
    "dq[1,:] = dtheta_2\n",
    "for i in range(q.shape[1]):\n",
    "#     print(B[:,i])\n",
    "#     np.dot(B[:,i],u)\n",
    "    print(np.matmul(np.linalg.pinv(M[i,:,:]),np.dot(B[:,i],u[i])))\n",
    "    dq[2:4,i] = np.matmul(np.linalg.pinv(M[i,:,:]), np.dot(B[:,i],u[i]) - np.dot(C[i,:,:], dq[0:2,i]) - G[i,:])"
   ]
  },
  {
   "cell_type": "code",
   "execution_count": 81,
   "metadata": {},
   "outputs": [
    {
     "data": {
      "text/plain": [
       "array([[ 0.00000000e+00,  0.00000000e+00,  0.00000000e+00,\n",
       "         0.00000000e+00],\n",
       "       [ 0.00000000e+00,  0.00000000e+00,  0.00000000e+00,\n",
       "         0.00000000e+00],\n",
       "       [ 2.40275702e-15,  3.92400000e+01, -3.92400000e+01,\n",
       "         2.40275702e-15],\n",
       "       [-4.80551404e-15, -7.84800000e+01,  1.42108547e-14,\n",
       "         1.44165421e-14]])"
      ]
     },
     "execution_count": 81,
     "metadata": {},
     "output_type": "execute_result"
    }
   ],
   "source": [
    "dq"
   ]
  },
  {
   "cell_type": "code",
   "execution_count": null,
   "metadata": {},
   "outputs": [],
   "source": []
  }
 ],
 "metadata": {
  "kernelspec": {
   "display_name": "Python 3",
   "language": "python",
   "name": "python3"
  },
  "language_info": {
   "codemirror_mode": {
    "name": "ipython",
    "version": 3
   },
   "file_extension": ".py",
   "mimetype": "text/x-python",
   "name": "python",
   "nbconvert_exporter": "python",
   "pygments_lexer": "ipython3",
   "version": "3.4.3"
  }
 },
 "nbformat": 4,
 "nbformat_minor": 2
}
